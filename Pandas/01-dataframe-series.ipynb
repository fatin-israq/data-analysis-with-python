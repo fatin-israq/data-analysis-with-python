{
 "cells": [
  {
   "cell_type": "markdown",
   "id": "47226a06",
   "metadata": {},
   "source": [
    "# Pandas DataFrame and Series\n",
    "-------\n",
    "\n",
    "Pandas is a powerful data manipulation library in Python, widely used for data analysis and data cleaning. It provides two primary data structures: Series and DataFrame. A Series is a one dimensional (1D) array-like object, while a DataFrame is a two dimensional (2D), size-mutable, and potentially heterogeneous tabular data structure with labeled axes (rows and columns)."
   ]
  },
  {
   "cell_type": "code",
   "execution_count": 2,
   "id": "e61e9729",
   "metadata": {},
   "outputs": [],
   "source": [
    "# importing pandas\n",
    "import pandas as pd"
   ]
  },
  {
   "cell_type": "markdown",
   "id": "a4a00a97",
   "metadata": {},
   "source": [
    "## Series\n",
    "-----\n",
    "A pandas series is like an 1D array-like object that can hold any data type. It is similar to a column in a table."
   ]
  },
  {
   "cell_type": "code",
   "execution_count": 6,
   "id": "1c282c6d",
   "metadata": {},
   "outputs": [
    {
     "name": "stdout",
     "output_type": "stream",
     "text": [
      "Series:\n",
      " 0    1\n",
      "1    2\n",
      "2    3\n",
      "3    4\n",
      "4    5\n",
      "dtype: int64\n",
      "<class 'pandas.core.series.Series'>\n"
     ]
    }
   ],
   "source": [
    "## Series\n",
    "data = [1, 2, 3, 4, 5]\n",
    "series = pd.Series(data)\n",
    "print(\"Series:\\n\", series)\n",
    "print(type(series))"
   ]
  },
  {
   "cell_type": "code",
   "execution_count": 7,
   "id": "6724228d",
   "metadata": {},
   "outputs": [
    {
     "data": {
      "text/plain": [
       "a    1\n",
       "b    2\n",
       "c    3\n",
       "dtype: int64"
      ]
     },
     "execution_count": 7,
     "metadata": {},
     "output_type": "execute_result"
    }
   ],
   "source": [
    "## Series from dictionary\n",
    "data = {'a': 1, 'b': 2, 'c': 3}\n",
    "pd.Series(data)"
   ]
  },
  {
   "cell_type": "code",
   "execution_count": 8,
   "id": "523619f6",
   "metadata": {},
   "outputs": [
    {
     "data": {
      "text/plain": [
       "a    10\n",
       "b    20\n",
       "c    30\n",
       "dtype: int64"
      ]
     },
     "execution_count": 8,
     "metadata": {},
     "output_type": "execute_result"
    }
   ],
   "source": [
    "data = [10, 20, 30]\n",
    "i = ['a', 'b', 'c']\n",
    "\n",
    "pd.Series(data, index=i)"
   ]
  },
  {
   "cell_type": "markdown",
   "id": "51ae8687",
   "metadata": {},
   "source": [
    "## DataFrame\n",
    "-----"
   ]
  },
  {
   "cell_type": "code",
   "execution_count": 9,
   "id": "9cfccc02",
   "metadata": {},
   "outputs": [
    {
     "name": "stdout",
     "output_type": "stream",
     "text": [
      "      Name  Age Address\n",
      "0    Talha   23   Dhaka\n",
      "1   Tahmid   20  Khulna\n",
      "2  Raccoon    3  Amazon\n",
      "<class 'pandas.core.frame.DataFrame'>\n"
     ]
    }
   ],
   "source": [
    "## Create a dataframe from a dictionary of list\n",
    "\n",
    "data = {\n",
    "    \"Name\": ['Talha', 'Tahmid', 'Raccoon'],\n",
    "    'Age': [23, 20, 3],\n",
    "    'Address': ['Dhaka', 'Khulna', 'Amazon']\n",
    "}\n",
    "\n",
    "df = pd.DataFrame(data)\n",
    "print(df)\n",
    "print(type(df))"
   ]
  },
  {
   "cell_type": "code",
   "execution_count": 10,
   "id": "9d475e24",
   "metadata": {},
   "outputs": [
    {
     "data": {
      "text/plain": [
       "array([['Talha', 23, 'Dhaka'],\n",
       "       ['Tahmid', 20, 'Khulna'],\n",
       "       ['Raccoon', 3, 'Amazon']], dtype=object)"
      ]
     },
     "execution_count": 10,
     "metadata": {},
     "output_type": "execute_result"
    }
   ],
   "source": [
    "import numpy as np\n",
    "np.array(df)"
   ]
  },
  {
   "cell_type": "code",
   "execution_count": 11,
   "id": "b52c9b46",
   "metadata": {},
   "outputs": [
    {
     "name": "stdout",
     "output_type": "stream",
     "text": [
      "      Name  Age      Address\n",
      "0    Talha   23  Kishoreganj\n",
      "1   Tahmid   19       Khulna\n",
      "2  Cheetah    2       Sahara\n",
      "3    Milan   32       France\n",
      "<class 'pandas.core.frame.DataFrame'>\n"
     ]
    }
   ],
   "source": [
    "## Create a Dataframe from a List of Dictionaries\n",
    "\n",
    "data = [\n",
    "    {'Name': 'Talha', 'Age': 23, 'Address': 'Kishoreganj'},\n",
    "    {'Name': 'Tahmid', 'Age': 19, 'Address': 'Khulna'},\n",
    "    {'Name': 'Cheetah', 'Age': 2, 'Address': 'Sahara'},\n",
    "    {'Name': 'Milan', 'Age': 32, 'Address': 'France'}\n",
    "]\n",
    "\n",
    "df = pd.DataFrame(data)\n",
    "print(df)\n",
    "print(type(df))"
   ]
  }
 ],
 "metadata": {
  "kernelspec": {
   "display_name": ".env",
   "language": "python",
   "name": "python3"
  },
  "language_info": {
   "codemirror_mode": {
    "name": "ipython",
    "version": 3
   },
   "file_extension": ".py",
   "mimetype": "text/x-python",
   "name": "python",
   "nbconvert_exporter": "python",
   "pygments_lexer": "ipython3",
   "version": "3.13.5"
  }
 },
 "nbformat": 4,
 "nbformat_minor": 5
}
