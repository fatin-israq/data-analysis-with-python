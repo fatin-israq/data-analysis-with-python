{
 "cells": [
  {
   "cell_type": "markdown",
   "id": "bd3a7df6",
   "metadata": {},
   "source": [
    "## Numpy Vectorized Operation"
   ]
  },
  {
   "cell_type": "code",
   "execution_count": 4,
   "id": "857288f6",
   "metadata": {},
   "outputs": [
    {
     "name": "stdout",
     "output_type": "stream",
     "text": [
      "Addition:  [11 22 33 44 55]\n",
      "Subtraction:  [ -9 -18 -27 -36 -45]\n",
      "Multiplication:  [ 10  40  90 160 250]\n",
      "Division:  [0.1 0.1 0.1 0.1 0.1]\n"
     ]
    }
   ],
   "source": [
    "import numpy as np\n",
    "\n",
    "array1 = np.array([1, 2, 3 ,4 ,5])\n",
    "array2 = np.array([10, 20, 30, 40, 50])\n",
    "\n",
    "### Element wise addition\n",
    "print(\"Addition: \", array1 + array2)\n",
    "\n",
    "### Element wise subtraction\n",
    "print(\"Subtraction: \", array1 - array2)\n",
    "\n",
    "### Element wise multiplication\n",
    "print(\"Multiplication: \", array1 * array2)\n",
    "\n",
    "### Element wise division\n",
    "print(\"Division: \", array1 / array2)"
   ]
  },
  {
   "cell_type": "markdown",
   "id": "69eef496",
   "metadata": {},
   "source": [
    "### Universal functions"
   ]
  },
  {
   "cell_type": "code",
   "execution_count": 6,
   "id": "dc0b24a9",
   "metadata": {},
   "outputs": [
    {
     "name": "stdout",
     "output_type": "stream",
     "text": [
      "[1.41421356 1.73205081 2.         2.23606798 2.44948974]\n",
      "[  7.3890561   20.08553692  54.59815003 148.4131591  403.42879349]\n",
      "[ 0.90929743  0.14112001 -0.7568025  -0.95892427 -0.2794155 ]\n",
      "[0.69314718 1.09861229 1.38629436 1.60943791 1.79175947]\n"
     ]
    }
   ],
   "source": [
    "arr = np.array([2, 3, 4, 5, 6])\n",
    "\n",
    "## square root\n",
    "print(np.sqrt(arr))\n",
    "\n",
    "## exponential\n",
    "print(np.exp(arr))\n",
    "\n",
    "## sine\n",
    "print(np.sin(arr))\n",
    "\n",
    "## natural log\n",
    "print(np.log(arr))"
   ]
  },
  {
   "cell_type": "markdown",
   "id": "0b7699f7",
   "metadata": {},
   "source": [
    "### Array Slicing and Indexing"
   ]
  },
  {
   "cell_type": "code",
   "execution_count": 7,
   "id": "a17848e2",
   "metadata": {},
   "outputs": [
    {
     "name": "stdout",
     "output_type": "stream",
     "text": [
      "Array: \n",
      " [[ 1  2  3  4]\n",
      " [ 5  6  7  8]\n",
      " [ 9 10 11 12]]\n"
     ]
    }
   ],
   "source": [
    "arr = np.array([[1, 2, 3, 4], [5, 6, 7, 8], [9, 10, 11, 12]])\n",
    "print(\"Array: \\n\", arr)"
   ]
  },
  {
   "cell_type": "code",
   "execution_count": null,
   "id": "5ef622cd",
   "metadata": {},
   "outputs": [
    {
     "name": "stdout",
     "output_type": "stream",
     "text": [
      "[1 2 3 4]\n",
      "1\n"
     ]
    }
   ],
   "source": [
    "print(arr[0])      # 1st row, Output: [1, 2, 3, 4]\n",
    "print(arr[0][0])   # 1st element of 1st row, Output: 1"
   ]
  },
  {
   "cell_type": "code",
   "execution_count": null,
   "id": "f2c64c3c",
   "metadata": {},
   "outputs": [
    {
     "data": {
      "text/plain": [
       "array([[ 5,  6,  7,  8],\n",
       "       [ 9, 10, 11, 12]])"
      ]
     },
     "execution_count": 13,
     "metadata": {},
     "output_type": "execute_result"
    }
   ],
   "source": [
    "arr[1:]     # second row to last row"
   ]
  },
  {
   "cell_type": "code",
   "execution_count": 14,
   "id": "917b16e7",
   "metadata": {},
   "outputs": [
    {
     "data": {
      "text/plain": [
       "array([[ 7,  8],\n",
       "       [11, 12]])"
      ]
     },
     "execution_count": 14,
     "metadata": {},
     "output_type": "execute_result"
    }
   ],
   "source": [
    "arr[1:, 2:]     # second row to last row, but from second column to last col"
   ]
  },
  {
   "cell_type": "code",
   "execution_count": null,
   "id": "767d1821",
   "metadata": {},
   "outputs": [
    {
     "data": {
      "text/plain": [
       "array([[3, 4],\n",
       "       [7, 8]])"
      ]
     },
     "execution_count": 17,
     "metadata": {},
     "output_type": "execute_result"
    }
   ],
   "source": [
    "arr[0:2, 2:]    # from first row to second row, but second col to col"
   ]
  },
  {
   "cell_type": "code",
   "execution_count": 18,
   "id": "f7dd2d21",
   "metadata": {},
   "outputs": [
    {
     "data": {
      "text/plain": [
       "array([[ 6,  7],\n",
       "       [10, 11]])"
      ]
     },
     "execution_count": 18,
     "metadata": {},
     "output_type": "execute_result"
    }
   ],
   "source": [
    "\"\"\"To pick 6, 7, 10, 11\n",
    "Array: \n",
    " [[ 1  2  3  4]\n",
    " [ 5  6  7  8]\n",
    " [ 9 10 11 12]]\n",
    "\"\"\"\n",
    "arr[1:, 1:3]"
   ]
  },
  {
   "cell_type": "markdown",
   "id": "720d0896",
   "metadata": {},
   "source": [
    "### Modify Array Elements"
   ]
  },
  {
   "cell_type": "code",
   "execution_count": 20,
   "id": "aac6f9e1",
   "metadata": {},
   "outputs": [
    {
     "name": "stdout",
     "output_type": "stream",
     "text": [
      "[[100   2   3   4]\n",
      " [  5   6   7   8]\n",
      " [  9  10  11  12]]\n"
     ]
    }
   ],
   "source": [
    "arr[0, 0] = 100\n",
    "\n",
    "print(arr)"
   ]
  },
  {
   "cell_type": "code",
   "execution_count": 21,
   "id": "d3c90fa9",
   "metadata": {},
   "outputs": [
    {
     "name": "stdout",
     "output_type": "stream",
     "text": [
      "[[100   2   3   4]\n",
      " [100 100 100 100]\n",
      " [100 100 100 100]]\n"
     ]
    }
   ],
   "source": [
    "arr[1:] = 100\n",
    "print(arr)"
   ]
  }
 ],
 "metadata": {
  "kernelspec": {
   "display_name": ".env",
   "language": "python",
   "name": "python3"
  },
  "language_info": {
   "codemirror_mode": {
    "name": "ipython",
    "version": 3
   },
   "file_extension": ".py",
   "mimetype": "text/x-python",
   "name": "python",
   "nbconvert_exporter": "python",
   "pygments_lexer": "ipython3",
   "version": "3.13.5"
  }
 },
 "nbformat": 4,
 "nbformat_minor": 5
}
