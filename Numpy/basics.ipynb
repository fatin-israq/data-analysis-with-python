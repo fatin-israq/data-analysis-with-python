{
 "cells": [
  {
   "cell_type": "markdown",
   "id": "f4c7ffeb",
   "metadata": {},
   "source": [
    "# Numpy\n",
    "Numpy is a fundamental library for scientific computing in Python. It provides support for arrays and matrices, along with a collection of mathematical functions to operate on these data structures. In this lesson, we will cover the basics of NumPy."
   ]
  },
  {
   "cell_type": "code",
   "execution_count": 7,
   "id": "2219eba3",
   "metadata": {},
   "outputs": [
    {
     "name": "stdout",
     "output_type": "stream",
     "text": [
      "Requirement already satisfied: numpy in /Users/israq/Documents/Development/data-analysis-with-python/.env/lib/python3.13/site-packages (2.3.2)\n",
      "\n",
      "\u001b[1m[\u001b[0m\u001b[34;49mnotice\u001b[0m\u001b[1;39;49m]\u001b[0m\u001b[39;49m A new release of pip is available: \u001b[0m\u001b[31;49m25.1.1\u001b[0m\u001b[39;49m -> \u001b[0m\u001b[32;49m25.2\u001b[0m\n",
      "\u001b[1m[\u001b[0m\u001b[34;49mnotice\u001b[0m\u001b[1;39;49m]\u001b[0m\u001b[39;49m To update, run: \u001b[0m\u001b[32;49mpip install --upgrade pip\u001b[0m\n",
      "Note: you may need to restart the kernel to use updated packages.\n"
     ]
    }
   ],
   "source": [
    "# To install numpy on your local machine\n",
    "%pip install numpy"
   ]
  },
  {
   "cell_type": "code",
   "execution_count": 8,
   "id": "c08fcda3",
   "metadata": {},
   "outputs": [],
   "source": [
    "# Import numpy to use\n",
    "import numpy as np      # np is an alias of numpy"
   ]
  },
  {
   "cell_type": "markdown",
   "id": "9543e27c",
   "metadata": {},
   "source": [
    "## Create Array Using Numpy\n",
    "\n",
    "#### Create an 1D Array"
   ]
  },
  {
   "cell_type": "code",
   "execution_count": 9,
   "id": "d3aaf60b",
   "metadata": {},
   "outputs": [
    {
     "name": "stdout",
     "output_type": "stream",
     "text": [
      "[1 2 3 4 5]\n",
      "<class 'numpy.ndarray'>\n",
      "(5,)\n"
     ]
    }
   ],
   "source": [
    "# 1D array\n",
    "arr1 = np.array([1, 2, 3, 4, 5])           # inside the parenthesis, i can give lists, tuples etc\n",
    "print(arr1)                                # printing an array\n",
    "print(type(arr1))\n",
    "print(arr1.shape)                          # print the dimension"
   ]
  },
  {
   "cell_type": "markdown",
   "id": "d3971a56",
   "metadata": {},
   "source": [
    "#### Create a 2D Array"
   ]
  },
  {
   "cell_type": "code",
   "execution_count": 10,
   "id": "7fc70cb1",
   "metadata": {},
   "outputs": [
    {
     "data": {
      "text/plain": [
       "array([[1, 2, 3, 4, 5]])"
      ]
     },
     "execution_count": 10,
     "metadata": {},
     "output_type": "execute_result"
    }
   ],
   "source": [
    "# reshaping 1d to a 2d array\n",
    "arr2 = np.array([1, 2, 3, 4, 5])\n",
    "arr2.reshape((1, 5))        # 1 row, and 5 columns"
   ]
  },
  {
   "cell_type": "code",
   "execution_count": 11,
   "id": "c5677dd6",
   "metadata": {},
   "outputs": [
    {
     "data": {
      "text/plain": [
       "(1, 5)"
      ]
     },
     "execution_count": 11,
     "metadata": {},
     "output_type": "execute_result"
    }
   ],
   "source": [
    "arr2 = np.array([[1, 2, 3, 4, 5]])\n",
    "arr2.shape"
   ]
  },
  {
   "cell_type": "code",
   "execution_count": 12,
   "id": "5a5d9d18",
   "metadata": {},
   "outputs": [
    {
     "name": "stdout",
     "output_type": "stream",
     "text": [
      "[[1 2 3 4 5]\n",
      " [4 5 6 7 8]]\n"
     ]
    },
    {
     "data": {
      "text/plain": [
       "(2, 5)"
      ]
     },
     "execution_count": 12,
     "metadata": {},
     "output_type": "execute_result"
    }
   ],
   "source": [
    "# Creating 2D array, but columns need to be the same size\n",
    "arr2 = np.array([[1, 2, 3, 4, 5],[4, 5, 6, 7, 8]])\n",
    "print(arr2)\n",
    "arr2.shape"
   ]
  },
  {
   "cell_type": "markdown",
   "id": "83ba9c62",
   "metadata": {},
   "source": [
    "## Quick Recap"
   ]
  },
  {
   "cell_type": "code",
   "execution_count": 13,
   "id": "beb58208",
   "metadata": {},
   "outputs": [
    {
     "name": "stdout",
     "output_type": "stream",
     "text": [
      "Array:  [[1 2 3]\n",
      " [4 5 6]]\n",
      "Shape:  (2, 3)\n",
      "Number of dimensions:  2\n",
      "Size (number of elements):  6\n",
      "Data type:  int64\n",
      "Item size (in bytes):  8\n"
     ]
    }
   ],
   "source": [
    "# Attributes of NumPy\n",
    "arr = np.array([[1, 2, 3], [4, 5, 6]])\n",
    "\n",
    "print(\"Array: \", arr)\n",
    "print(\"Shape: \", arr.shape)         # Output: (2, 3)\n",
    "print(\"Number of dimensions: \", arr.ndim)   # Output: 2\n",
    "print(\"Size (number of elements): \", arr.size)  # Output: 6\n",
    "print(\"Data type: \", arr.dtype)     # Output: int64 (may vary based on platforms)\n",
    "print(\"Item size (in bytes): \", arr.itemsize)   # Output: 8 (may vary based on platforms)"
   ]
  },
  {
   "cell_type": "markdown",
   "id": "d0e410a6",
   "metadata": {},
   "source": [
    "### Matrix Operations"
   ]
  },
  {
   "cell_type": "code",
   "execution_count": 14,
   "id": "192ad27c",
   "metadata": {},
   "outputs": [
    {
     "data": {
      "text/plain": [
       "array([0, 2, 4, 6, 8])"
      ]
     },
     "execution_count": 14,
     "metadata": {},
     "output_type": "execute_result"
    }
   ],
   "source": [
    "# it starts from 0 and goes till 10, with 2 being how much it should skip\n",
    "np.arange(0, 10, 2)"
   ]
  },
  {
   "cell_type": "code",
   "execution_count": 15,
   "id": "52c805b6",
   "metadata": {},
   "outputs": [
    {
     "data": {
      "text/plain": [
       "array([[0],\n",
       "       [2],\n",
       "       [4],\n",
       "       [6],\n",
       "       [8]])"
      ]
     },
     "execution_count": 15,
     "metadata": {},
     "output_type": "execute_result"
    }
   ],
   "source": [
    "np.arange(0, 10, 2).reshape(5, 1)"
   ]
  },
  {
   "cell_type": "markdown",
   "id": "e549dd31",
   "metadata": {},
   "source": [
    "### Ones, and Zeros"
   ]
  },
  {
   "cell_type": "code",
   "execution_count": 16,
   "id": "9a0e333f",
   "metadata": {},
   "outputs": [
    {
     "data": {
      "text/plain": [
       "array([0., 0., 0., 0., 0.])"
      ]
     },
     "execution_count": 16,
     "metadata": {},
     "output_type": "execute_result"
    }
   ],
   "source": [
    "## Create an array, but every value is 0\n",
    "np.zeros(5)"
   ]
  },
  {
   "cell_type": "code",
   "execution_count": 17,
   "id": "518ed764",
   "metadata": {},
   "outputs": [
    {
     "data": {
      "text/plain": [
       "array([[1., 1., 1., 1.],\n",
       "       [1., 1., 1., 1.],\n",
       "       [1., 1., 1., 1.]])"
      ]
     },
     "execution_count": 17,
     "metadata": {},
     "output_type": "execute_result"
    }
   ],
   "source": [
    "# Create 2D array, but every value will be 1\n",
    "np.ones((3, 4))"
   ]
  },
  {
   "cell_type": "code",
   "execution_count": null,
   "id": "88b04488",
   "metadata": {},
   "outputs": [],
   "source": []
  },
  {
   "cell_type": "markdown",
   "id": "26dcfe1a",
   "metadata": {},
   "source": [
    "### Identity Matrix\n",
    "All the diagonal values will be 1, other elements will be 0"
   ]
  },
  {
   "cell_type": "code",
   "execution_count": 18,
   "id": "1825f41c",
   "metadata": {},
   "outputs": [
    {
     "data": {
      "text/plain": [
       "array([[1., 0., 0.],\n",
       "       [0., 1., 0.],\n",
       "       [0., 0., 1.]])"
      ]
     },
     "execution_count": 18,
     "metadata": {},
     "output_type": "execute_result"
    }
   ],
   "source": [
    "np.eye(3)"
   ]
  }
 ],
 "metadata": {
  "kernelspec": {
   "display_name": ".env",
   "language": "python",
   "name": "python3"
  },
  "language_info": {
   "codemirror_mode": {
    "name": "ipython",
    "version": 3
   },
   "file_extension": ".py",
   "mimetype": "text/x-python",
   "name": "python",
   "nbconvert_exporter": "python",
   "pygments_lexer": "ipython3",
   "version": "3.13.5"
  }
 },
 "nbformat": 4,
 "nbformat_minor": 5
}
