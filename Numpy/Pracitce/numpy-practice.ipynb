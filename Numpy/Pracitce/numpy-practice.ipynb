{
 "cells": [
  {
   "cell_type": "code",
   "execution_count": 1,
   "id": "b52c9ece",
   "metadata": {},
   "outputs": [],
   "source": [
    "import numpy as np"
   ]
  },
  {
   "cell_type": "markdown",
   "id": "8a02a35c",
   "metadata": {},
   "source": [
    "# Module: NumPy Assignments\n",
    "## Lesson: NumPy\n",
    "### Assignment 1: Array Creation and Manipulation\n",
    "\n",
    "1. Create a NumPy array of shape (5, 5) filled with random integers between 1 and 20. Replace all the elements in the third column with 1."
   ]
  },
  {
   "cell_type": "code",
   "execution_count": 10,
   "id": "05ce9cf5",
   "metadata": {},
   "outputs": [
    {
     "name": "stdout",
     "output_type": "stream",
     "text": [
      "Original array: \n",
      "[[20 31 48 33  4]\n",
      " [46  1 13  3  1]\n",
      " [27  9  3 10 47]\n",
      " [46  5 34 28 20]\n",
      " [ 6  1  7 45  7]] \n",
      "\n",
      "Modified array: \n",
      "[[20 31  1 33  4]\n",
      " [46  1  1  3  1]\n",
      " [27  9  1 10 47]\n",
      " [46  5  1 28 20]\n",
      " [ 6  1  1 45  7]]\n"
     ]
    }
   ],
   "source": [
    "# Create a NumPy array of shape (5, 5) filled with random integers\n",
    "array = np.random.randint(50, size=(5, 5))\n",
    "print(\"Original array: \")\n",
    "print(array, \"\\n\")\n",
    "\n",
    "# Replace all the elements in the third column with 1\n",
    "array[:, 2] = 1\n",
    "print(\"Modified array: \")\n",
    "print(array)"
   ]
  },
  {
   "cell_type": "markdown",
   "id": "ccc6d51c",
   "metadata": {},
   "source": [
    "2. Create a NumPy array of shape (4, 4) with values from 1 to 16. Replace the diagonal elements with 0."
   ]
  },
  {
   "cell_type": "code",
   "execution_count": 17,
   "id": "2bba8934",
   "metadata": {},
   "outputs": [
    {
     "name": "stdout",
     "output_type": "stream",
     "text": [
      "Original array: \n",
      "[[14  2 13 15]\n",
      " [10 15  6  2]\n",
      " [ 3  3 10  2]\n",
      " [ 2  6  1 12]]\n",
      "Modified array: \n",
      "[[ 0  2 13 15]\n",
      " [10  0  6  2]\n",
      " [ 3  3  0  2]\n",
      " [ 2  6  1  0]]\n"
     ]
    }
   ],
   "source": [
    "array2 = np.random.randint(1, 16, size=(4, 4))\n",
    "print(\"Original array: \")\n",
    "print(array2)\n",
    "\n",
    "# Replace the diagonal elements with 0\n",
    "np.fill_diagonal(array2, 0)\n",
    "print(\"Modified array: \")\n",
    "print(array2)"
   ]
  },
  {
   "cell_type": "markdown",
   "id": "7769735e",
   "metadata": {},
   "source": [
    "### Assignment 2: Array Indexing and Slicing\n",
    "\n",
    "1. Create a NumPy array of shape (6, 6) with values from 1 to 36. Extract the sub-array consisting of the 3rd to 5th rows and 2nd to 4th columns."
   ]
  },
  {
   "cell_type": "code",
   "execution_count": 21,
   "id": "606c1cda",
   "metadata": {},
   "outputs": [
    {
     "name": "stdout",
     "output_type": "stream",
     "text": [
      "Original array:\n",
      "[[1 1 2 2 2 2]\n",
      " [2 1 2 2 1 2]\n",
      " [1 1 1 1 2 1]\n",
      " [2 2 2 2 1 2]\n",
      " [1 2 2 1 1 1]\n",
      " [1 2 1 2 1 1]]\n",
      "Sub-array:\n",
      "[[1 1 1]\n",
      " [2 2 2]\n",
      " [2 2 1]]\n"
     ]
    }
   ],
   "source": [
    "# creating the array\n",
    "array = np.random.randint(1, 3, size=(6, 6))\n",
    "print(\"Original array:\")\n",
    "print(array)\n",
    "\n",
    "# Extracting the sub-array of 3rd to 5th row, 2nd to 4th cols\n",
    "sub_array = array[2:5, 1:4]\n",
    "print(\"Sub-array:\")\n",
    "print(sub_array)"
   ]
  },
  {
   "cell_type": "markdown",
   "id": "787459d7",
   "metadata": {},
   "source": [
    "2. Create a NumPy array of shape (5, 5) with random integers. Extract the elements on the border."
   ]
  },
  {
   "cell_type": "code",
   "execution_count": 25,
   "id": "35ad6afc",
   "metadata": {},
   "outputs": [
    {
     "name": "stdout",
     "output_type": "stream",
     "text": [
      "Original array:\n",
      "[[ 9  7 16  7  2  9]\n",
      " [ 2 14 18 18  1  8]\n",
      " [14  5 11  1  6 14]\n",
      " [ 5 13  8 10 20 12]\n",
      " [16  9 19 15 11  6]\n",
      " [10 20 20 17 11 16]]\n",
      "Border elements: \n",
      "[ 9  7 16  7  2  9 10 20 20 17 11 16  2 14  5 16  8 14 12  6]\n"
     ]
    }
   ],
   "source": [
    "# creating the array\n",
    "array = np.random.randint(1, 21, size=(6, 6))\n",
    "print(\"Original array:\")\n",
    "print(array)\n",
    "\n",
    "# extracting element\n",
    "border_elements = np.concatenate((array[0 , :], array[-1, :], array[1:-1, 0], array[1:-1, -1]))\n",
    "print(\"Border elements: \")\n",
    "print(border_elements)"
   ]
  },
  {
   "cell_type": "markdown",
   "id": "325f64b6",
   "metadata": {},
   "source": [
    "### Assignment 3: Array Operations\n",
    "\n",
    "1. Create two NumPy arrays of shape (3, 4) filled with random integers. Perform element-wise addition, subtraction, multiplication, and division."
   ]
  },
  {
   "cell_type": "code",
   "execution_count": 28,
   "id": "809ae6db",
   "metadata": {},
   "outputs": [
    {
     "name": "stdout",
     "output_type": "stream",
     "text": [
      "Element-wise addition:\n",
      "[[ 9 18 15 27]\n",
      " [11  2 15  8]\n",
      " [16 23 11 12]]\n",
      "Element-wise subtraction:\n",
      "[[ 3 14 -3 11]\n",
      " [ 1  0  3  0]\n",
      " [ 4 11 -1  6]]\n",
      "Element-wise multiplication:\n",
      "[[ 18  32  54 152]\n",
      " [ 30   1  54  16]\n",
      " [ 60 102  30  27]]\n",
      "Element-wise division:\n",
      "[[2.         8.         0.66666667 2.375     ]\n",
      " [1.2        1.         1.5        1.        ]\n",
      " [1.66666667 2.83333333 0.83333333 3.        ]]\n"
     ]
    }
   ],
   "source": [
    "arr1 = np.random.randint(1, 21, size=(3, 4))\n",
    "arr2 = np.random.randint(1, 10, size=(3, 4))\n",
    "\n",
    "addition = arr1 + arr2\n",
    "subtraction = arr1 - arr2\n",
    "multi = arr1 * arr2\n",
    "div = arr1 / arr2\n",
    "\n",
    "print(\"Element-wise addition:\")\n",
    "print(addition)\n",
    "print(\"Element-wise subtraction:\")\n",
    "print(subtraction)\n",
    "print(\"Element-wise multiplication:\")\n",
    "print(multi)\n",
    "print(\"Element-wise division:\")\n",
    "print(div)"
   ]
  },
  {
   "cell_type": "markdown",
   "id": "e4ee4cfc",
   "metadata": {},
   "source": [
    "2. Create a NumPy array of shape (4, 4) with values from 1 to 16. Compute the row-wise and column-wise sum."
   ]
  },
  {
   "cell_type": "code",
   "execution_count": 30,
   "id": "2d2a7656",
   "metadata": {},
   "outputs": [
    {
     "name": "stdout",
     "output_type": "stream",
     "text": [
      "Row-wise sum:\n",
      "[26 36 44 43]\n",
      "Column-wise sum:\n",
      "[34 33 39 43]\n"
     ]
    }
   ],
   "source": [
    "arr1 = np.random.randint(1, 17, size=(4, 4))\n",
    "\n",
    "# Compute the row-wise and col-wise sum\n",
    "row_sum = np.sum(arr1, axis=1)\n",
    "col_sum = np.sum(arr1, axis = 0)\n",
    "\n",
    "print(\"Row-wise sum:\")\n",
    "print(row_sum)\n",
    "print(\"Column-wise sum:\")\n",
    "print(col_sum)"
   ]
  },
  {
   "cell_type": "markdown",
   "id": "e3e54900",
   "metadata": {},
   "source": [
    "### Assignment 4: Statistical Operations\n",
    "\n",
    "1. Create a NumPy array of shape (5, 5) filled with random integers. Compute the mean, median, standard deviation, and variance of the array."
   ]
  },
  {
   "cell_type": "code",
   "execution_count": 35,
   "id": "4fd23e9c",
   "metadata": {},
   "outputs": [
    {
     "name": "stdout",
     "output_type": "stream",
     "text": [
      "Mean:  10.04\n",
      "Median:  10.0\n",
      "Standard Deviation:  5.517100687861333\n",
      "Variance:  30.438399999999998\n"
     ]
    }
   ],
   "source": [
    "array = np.random.randint(1, 21, size=(5, 5))\n",
    "\n",
    "mean = np.mean(array)\n",
    "median = np.median(array)\n",
    "std_dev = np.std(array)\n",
    "variance = np.var(array)\n",
    "print(\"Mean: \", mean)\n",
    "print(\"Median: \", median)\n",
    "print(\"Standard Deviation: \", std_dev)\n",
    "print(\"Variance: \", variance)"
   ]
  },
  {
   "cell_type": "markdown",
   "id": "640b358d",
   "metadata": {},
   "source": [
    "2. Create a NumPy array of shape (3, 3) with values from 1 to 9. Normalize the array (i.e., scale the values to have a mean of 0 and a standard deviation of 1)."
   ]
  },
  {
   "cell_type": "code",
   "execution_count": 40,
   "id": "fde18326",
   "metadata": {},
   "outputs": [
    {
     "name": "stdout",
     "output_type": "stream",
     "text": [
      "Original array:\n",
      "[[1 2 3]\n",
      " [4 5 6]\n",
      " [7 8 9]]\n",
      "Normalized array: \n",
      "[[-1.54919334 -1.161895   -0.77459667]\n",
      " [-0.38729833  0.          0.38729833]\n",
      " [ 0.77459667  1.161895    1.54919334]]\n"
     ]
    }
   ],
   "source": [
    "# Create a NumPy array of shape (3, 3) with values from 1 to 9\n",
    "array = np.arange(1, 10).reshape(3, 3)\n",
    "print(\"Original array:\")\n",
    "print(array)\n",
    "\n",
    "# Normalize the array\n",
    "mean = np.mean(array)\n",
    "std_dev = np.std(array)\n",
    "normalized_array = (array - mean) / std_dev\n",
    "\n",
    "print(\"Normalized array: \")\n",
    "print(normalized_array)"
   ]
  }
 ],
 "metadata": {
  "kernelspec": {
   "display_name": ".env",
   "language": "python",
   "name": "python3"
  },
  "language_info": {
   "codemirror_mode": {
    "name": "ipython",
    "version": 3
   },
   "file_extension": ".py",
   "mimetype": "text/x-python",
   "name": "python",
   "nbconvert_exporter": "python",
   "pygments_lexer": "ipython3",
   "version": "3.13.5"
  }
 },
 "nbformat": 4,
 "nbformat_minor": 5
}
